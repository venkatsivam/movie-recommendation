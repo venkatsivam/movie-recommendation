{
 "cells": [
  {
   "cell_type": "code",
   "execution_count": 1,
   "id": "45dd2997-25db-4a98-acfd-0cc0406716d4",
   "metadata": {},
   "outputs": [],
   "source": [
    "import pandas as pd\n",
    "import nltk\n",
    "import re\n",
    "from nltk.corpus import stopwords\n",
    "from nltk.tokenize import word_tokenize\n",
    "from nltk.stem import WordNetLemmatizer\n",
    "import matplotlib.pyplot as plt\n",
    "import numpy as np\n",
    "import seaborn as sns\n",
    "from sklearn.feature_extraction.text import CountVectorizer\n",
    "import streamlit as st"
   ]
  },
  {
   "cell_type": "code",
   "execution_count": 2,
   "id": "ebcf7193-47e4-4777-b587-c5b7d8499c14",
   "metadata": {},
   "outputs": [
    {
     "data": {
      "text/html": [
       "<div>\n",
       "<style scoped>\n",
       "    .dataframe tbody tr th:only-of-type {\n",
       "        vertical-align: middle;\n",
       "    }\n",
       "\n",
       "    .dataframe tbody tr th {\n",
       "        vertical-align: top;\n",
       "    }\n",
       "\n",
       "    .dataframe thead th {\n",
       "        text-align: right;\n",
       "    }\n",
       "</style>\n",
       "<table border=\"1\" class=\"dataframe\">\n",
       "  <thead>\n",
       "    <tr style=\"text-align: right;\">\n",
       "      <th></th>\n",
       "      <th>Unnamed: 0</th>\n",
       "      <th>MovieName</th>\n",
       "      <th>StoryLine</th>\n",
       "    </tr>\n",
       "  </thead>\n",
       "  <tbody>\n",
       "    <tr>\n",
       "      <th>0</th>\n",
       "      <td>0</td>\n",
       "      <td>Carry-On</td>\n",
       "      <td>A mysterious traveler blackmails a young TSA a...</td>\n",
       "    </tr>\n",
       "    <tr>\n",
       "      <th>1</th>\n",
       "      <td>1</td>\n",
       "      <td>Red One</td>\n",
       "      <td>After Santa Claus is kidnapped, the North Pole...</td>\n",
       "    </tr>\n",
       "    <tr>\n",
       "      <th>2</th>\n",
       "      <td>2</td>\n",
       "      <td>Pushpa: The Rule - Part 2</td>\n",
       "      <td>Pushpa struggles to sustain his sandalwood smu...</td>\n",
       "    </tr>\n",
       "    <tr>\n",
       "      <th>3</th>\n",
       "      <td>3</td>\n",
       "      <td>Black Doves</td>\n",
       "      <td>Helen embarks on a passionate affair with a ma...</td>\n",
       "    </tr>\n",
       "    <tr>\n",
       "      <th>4</th>\n",
       "      <td>4</td>\n",
       "      <td>No Good Deed</td>\n",
       "      <td>It tells the story of three very different fam...</td>\n",
       "    </tr>\n",
       "  </tbody>\n",
       "</table>\n",
       "</div>"
      ],
      "text/plain": [
       "   Unnamed: 0                  MovieName  \\\n",
       "0           0                   Carry-On   \n",
       "1           1                    Red One   \n",
       "2           2  Pushpa: The Rule - Part 2   \n",
       "3           3                Black Doves   \n",
       "4           4               No Good Deed   \n",
       "\n",
       "                                           StoryLine  \n",
       "0  A mysterious traveler blackmails a young TSA a...  \n",
       "1  After Santa Claus is kidnapped, the North Pole...  \n",
       "2  Pushpa struggles to sustain his sandalwood smu...  \n",
       "3  Helen embarks on a passionate affair with a ma...  \n",
       "4  It tells the story of three very different fam...  "
      ]
     },
     "execution_count": 2,
     "metadata": {},
     "output_type": "execute_result"
    }
   ],
   "source": [
    "movies_df = pd.read_csv(\"movie_recommendations_2024_final.csv\")\n",
    "movies_df.head()"
   ]
  },
  {
   "cell_type": "code",
   "execution_count": 3,
   "id": "ae7c635c-87af-4b40-84f6-d3fe7a2dd722",
   "metadata": {},
   "outputs": [
    {
     "data": {
      "text/html": [
       "<div>\n",
       "<style scoped>\n",
       "    .dataframe tbody tr th:only-of-type {\n",
       "        vertical-align: middle;\n",
       "    }\n",
       "\n",
       "    .dataframe tbody tr th {\n",
       "        vertical-align: top;\n",
       "    }\n",
       "\n",
       "    .dataframe thead th {\n",
       "        text-align: right;\n",
       "    }\n",
       "</style>\n",
       "<table border=\"1\" class=\"dataframe\">\n",
       "  <thead>\n",
       "    <tr style=\"text-align: right;\">\n",
       "      <th></th>\n",
       "      <th>Unnamed: 0</th>\n",
       "      <th>MovieName</th>\n",
       "      <th>StoryLine</th>\n",
       "    </tr>\n",
       "  </thead>\n",
       "  <tbody>\n",
       "    <tr>\n",
       "      <th>0</th>\n",
       "      <td>0</td>\n",
       "      <td>Carry-On</td>\n",
       "      <td>A mysterious traveler blackmails a young TSA a...</td>\n",
       "    </tr>\n",
       "    <tr>\n",
       "      <th>1</th>\n",
       "      <td>1</td>\n",
       "      <td>Red One</td>\n",
       "      <td>After Santa Claus is kidnapped, the North Pole...</td>\n",
       "    </tr>\n",
       "    <tr>\n",
       "      <th>2</th>\n",
       "      <td>2</td>\n",
       "      <td>Pushpa: The Rule - Part 2</td>\n",
       "      <td>Pushpa struggles to sustain his sandalwood smu...</td>\n",
       "    </tr>\n",
       "    <tr>\n",
       "      <th>3</th>\n",
       "      <td>3</td>\n",
       "      <td>Black Doves</td>\n",
       "      <td>Helen embarks on a passionate affair with a ma...</td>\n",
       "    </tr>\n",
       "    <tr>\n",
       "      <th>4</th>\n",
       "      <td>4</td>\n",
       "      <td>No Good Deed</td>\n",
       "      <td>It tells the story of three very different fam...</td>\n",
       "    </tr>\n",
       "  </tbody>\n",
       "</table>\n",
       "</div>"
      ],
      "text/plain": [
       "   Unnamed: 0                  MovieName  \\\n",
       "0           0                   Carry-On   \n",
       "1           1                    Red One   \n",
       "2           2  Pushpa: The Rule - Part 2   \n",
       "3           3                Black Doves   \n",
       "4           4               No Good Deed   \n",
       "\n",
       "                                           StoryLine  \n",
       "0  A mysterious traveler blackmails a young TSA a...  \n",
       "1  After Santa Claus is kidnapped, the North Pole...  \n",
       "2  Pushpa struggles to sustain his sandalwood smu...  \n",
       "3  Helen embarks on a passionate affair with a ma...  \n",
       "4  It tells the story of three very different fam...  "
      ]
     },
     "execution_count": 3,
     "metadata": {},
     "output_type": "execute_result"
    }
   ],
   "source": [
    "# Remove the 'Unnamed: 0' column\n",
    "movies_df.head()"
   ]
  },
  {
   "cell_type": "code",
   "execution_count": 4,
   "id": "3f6fba01-b723-4cb5-988c-0f58d543a8b5",
   "metadata": {},
   "outputs": [
    {
     "data": {
      "text/plain": [
       "Unnamed: 0    0\n",
       "MovieName     0\n",
       "StoryLine     0\n",
       "dtype: int64"
      ]
     },
     "execution_count": 4,
     "metadata": {},
     "output_type": "execute_result"
    }
   ],
   "source": [
    "movies_df.isnull().sum()"
   ]
  },
  {
   "cell_type": "markdown",
   "id": "bfe792c4-a22c-4a7c-91ef-1264d9064428",
   "metadata": {},
   "source": [
    "# Data Preprocessing and Analysis:"
   ]
  },
  {
   "cell_type": "markdown",
   "id": "cd343e5b-f179-4b07-96d7-53aaa9ccd9aa",
   "metadata": {},
   "source": [
    "# Text Cleaning (NLP):"
   ]
  },
  {
   "cell_type": "code",
   "execution_count": 11,
   "id": "c0b469e6-5e3c-46e9-8864-44c355035cf2",
   "metadata": {},
   "outputs": [
    {
     "name": "stderr",
     "output_type": "stream",
     "text": [
      "[nltk_data] Downloading package punkt to\n",
      "[nltk_data]     C:\\Users\\DELL\\AppData\\Roaming\\nltk_data...\n",
      "[nltk_data]   Package punkt is already up-to-date!\n",
      "[nltk_data] Downloading package stopwords to\n",
      "[nltk_data]     C:\\Users\\DELL\\AppData\\Roaming\\nltk_data...\n",
      "[nltk_data]   Package stopwords is already up-to-date!\n",
      "[nltk_data] Downloading package wordnet to\n",
      "[nltk_data]     C:\\Users\\DELL\\AppData\\Roaming\\nltk_data...\n",
      "[nltk_data]   Package wordnet is already up-to-date!\n"
     ]
    },
    {
     "data": {
      "text/plain": [
       "True"
      ]
     },
     "execution_count": 11,
     "metadata": {},
     "output_type": "execute_result"
    }
   ],
   "source": [
    "# Download necessary NLTK data files\n",
    "nltk.download('punkt') # This model helps split text into sentences or words based on language rules (like punctuation and spacing).\n",
    "nltk.download('stopwords') # Removing stopwords from a text to reduce noise in data.\n",
    "nltk.download('wordnet') # Used for lemmatization (converting words to their base or dictionary form) and semantic analysis."
   ]
  },
  {
   "cell_type": "code",
   "execution_count": 13,
   "id": "7a3c70c7-5679-4897-a28c-fe22d6bea702",
   "metadata": {},
   "outputs": [],
   "source": [
    "# Initialize stopwords and lemmatizer\n",
    "stop_words = set(stopwords.words('english'))\n",
    "lemmatizer = WordNetLemmatizer()"
   ]
  },
  {
   "cell_type": "code",
   "execution_count": 15,
   "id": "ad0cfbfa-9634-4927-8edb-916bde22b43d",
   "metadata": {},
   "outputs": [],
   "source": [
    "# Function to preprocess storylines\n",
    "def preprocess_text(text):\n",
    "    # Convert to lowercase\n",
    "    text = text.lower()\n",
    "    \n",
    "    # Remove punctuation, numbers, and special characters using regex\n",
    "    text = re.sub(r'[^a-z\\s]', '', text)\n",
    "    \n",
    "    # Tokenize the text\n",
    "    tokens = word_tokenize(text)\n",
    "    \n",
    "    # Remove stopwords and apply lemmatization\n",
    "    tokens = [lemmatizer.lemmatize(word) for word in tokens if word not in stop_words]\n",
    "    #     Lemmatization is the process of reducing a word to its base or dictionary form (i.e., its lemma). For example:\n",
    "    # \"running\" -> \"run\"\n",
    "    # \"better\" -> \"good\"\n",
    "    \n",
    "    # Join the tokens back into a single string\n",
    "    return ' '.join(tokens)"
   ]
  },
  {
   "cell_type": "code",
   "execution_count": 17,
   "id": "a7feb71b-4172-4a68-a93f-a4a2aa35476d",
   "metadata": {},
   "outputs": [],
   "source": [
    "# Apply preprocessing to the 'Storyline' column\n",
    "movies_df['cleaned_storyline'] = movies_df['StoryLine'].apply(preprocess_text)"
   ]
  },
  {
   "cell_type": "code",
   "execution_count": 21,
   "id": "267656a9-9aad-4931-9bd6-195096cd8d1b",
   "metadata": {},
   "outputs": [
    {
     "data": {
      "text/html": [
       "<div>\n",
       "<style scoped>\n",
       "    .dataframe tbody tr th:only-of-type {\n",
       "        vertical-align: middle;\n",
       "    }\n",
       "\n",
       "    .dataframe tbody tr th {\n",
       "        vertical-align: top;\n",
       "    }\n",
       "\n",
       "    .dataframe thead th {\n",
       "        text-align: right;\n",
       "    }\n",
       "</style>\n",
       "<table border=\"1\" class=\"dataframe\">\n",
       "  <thead>\n",
       "    <tr style=\"text-align: right;\">\n",
       "      <th></th>\n",
       "      <th>Unnamed: 0</th>\n",
       "      <th>MovieName</th>\n",
       "      <th>StoryLine</th>\n",
       "      <th>cleaned_storyline</th>\n",
       "    </tr>\n",
       "  </thead>\n",
       "  <tbody>\n",
       "    <tr>\n",
       "      <th>0</th>\n",
       "      <td>0</td>\n",
       "      <td>Carry-On</td>\n",
       "      <td>A mysterious traveler blackmails a young TSA a...</td>\n",
       "      <td>mysterious traveler blackmail young tsa agent ...</td>\n",
       "    </tr>\n",
       "    <tr>\n",
       "      <th>1</th>\n",
       "      <td>1</td>\n",
       "      <td>Red One</td>\n",
       "      <td>After Santa Claus is kidnapped, the North Pole...</td>\n",
       "      <td>santa claus kidnapped north pole head security...</td>\n",
       "    </tr>\n",
       "    <tr>\n",
       "      <th>2</th>\n",
       "      <td>2</td>\n",
       "      <td>Pushpa: The Rule - Part 2</td>\n",
       "      <td>Pushpa struggles to sustain his sandalwood smu...</td>\n",
       "      <td>pushpa struggle sustain sandalwood smuggling b...</td>\n",
       "    </tr>\n",
       "    <tr>\n",
       "      <th>3</th>\n",
       "      <td>3</td>\n",
       "      <td>Black Doves</td>\n",
       "      <td>Helen embarks on a passionate affair with a ma...</td>\n",
       "      <td>helen embarks passionate affair man idea secre...</td>\n",
       "    </tr>\n",
       "    <tr>\n",
       "      <th>4</th>\n",
       "      <td>4</td>\n",
       "      <td>No Good Deed</td>\n",
       "      <td>It tells the story of three very different fam...</td>\n",
       "      <td>tell story three different family vying buy sp...</td>\n",
       "    </tr>\n",
       "  </tbody>\n",
       "</table>\n",
       "</div>"
      ],
      "text/plain": [
       "   Unnamed: 0                  MovieName  \\\n",
       "0           0                   Carry-On   \n",
       "1           1                    Red One   \n",
       "2           2  Pushpa: The Rule - Part 2   \n",
       "3           3                Black Doves   \n",
       "4           4               No Good Deed   \n",
       "\n",
       "                                           StoryLine  \\\n",
       "0  A mysterious traveler blackmails a young TSA a...   \n",
       "1  After Santa Claus is kidnapped, the North Pole...   \n",
       "2  Pushpa struggles to sustain his sandalwood smu...   \n",
       "3  Helen embarks on a passionate affair with a ma...   \n",
       "4  It tells the story of three very different fam...   \n",
       "\n",
       "                                   cleaned_storyline  \n",
       "0  mysterious traveler blackmail young tsa agent ...  \n",
       "1  santa claus kidnapped north pole head security...  \n",
       "2  pushpa struggle sustain sandalwood smuggling b...  \n",
       "3  helen embarks passionate affair man idea secre...  \n",
       "4  tell story three different family vying buy sp...  "
      ]
     },
     "execution_count": 21,
     "metadata": {},
     "output_type": "execute_result"
    }
   ],
   "source": [
    "movies_df.head()"
   ]
  },
  {
   "cell_type": "code",
   "execution_count": 23,
   "id": "22892f05-0cbf-4c00-9d33-fa886c334c32",
   "metadata": {},
   "outputs": [],
   "source": [
    "movies_df['MovieName'] = movies_df['MovieName'].astype(str)\n",
    "movies_df['StoryLine'] = movies_df['StoryLine'].astype(str)\n",
    "movies_df['cleaned_storyline'] = movies_df['cleaned_storyline'].astype(str)"
   ]
  },
  {
   "cell_type": "code",
   "execution_count": 25,
   "id": "c1cc9967-7396-4da2-b510-0c868c679e70",
   "metadata": {},
   "outputs": [
    {
     "data": {
      "text/plain": [
       "Unnamed: 0            int64\n",
       "MovieName            object\n",
       "StoryLine            object\n",
       "cleaned_storyline    object\n",
       "dtype: object"
      ]
     },
     "execution_count": 25,
     "metadata": {},
     "output_type": "execute_result"
    }
   ],
   "source": [
    "movies_df.dtypes"
   ]
  },
  {
   "cell_type": "markdown",
   "id": "576cc457-5ad9-43bb-9390-6ab3e022d174",
   "metadata": {},
   "source": [
    "# Text Representation:"
   ]
  },
  {
   "cell_type": "code",
   "execution_count": 28,
   "id": "d8c173d0-f906-4126-9858-dee5aef7dfb2",
   "metadata": {},
   "outputs": [],
   "source": [
    "# In Natural Language Processing (NLP), \n",
    "# text data needs to be converted into a numerical format because most machine learning models \n",
    "# and algorithms can only work with numbers. This process is known as text representation."
   ]
  },
  {
   "cell_type": "code",
   "execution_count": 30,
   "id": "51b32dbf-d0c4-4cf8-badd-6e04ed7b4495",
   "metadata": {},
   "outputs": [],
   "source": [
    "# Count Vectorizer: Converts each document (in this case, movie storyline) into a vector of word counts. \n",
    "# It creates a matrix where each row represents a document, \n",
    "# and each column represents a word. The value in the matrix is the frequency of the word in the document."
   ]
  },
  {
   "cell_type": "code",
   "execution_count": 32,
   "id": "9fc59cfc-ca36-41d1-9838-c19290fd75c2",
   "metadata": {},
   "outputs": [],
   "source": [
    "# Initialize the Count Vectorizer\n",
    "count_vectorizer = CountVectorizer(max_features=1000)"
   ]
  },
  {
   "cell_type": "code",
   "execution_count": 34,
   "id": "20a36957-4bc9-450a-8c2a-b4dfba205406",
   "metadata": {},
   "outputs": [],
   "source": [
    "# Fit and transform the cleaned storylines into a Count Vectorizer matrix\n",
    "count_matrix = count_vectorizer.fit_transform(movies_df['cleaned_storyline'])"
   ]
  },
  {
   "cell_type": "code",
   "execution_count": 36,
   "id": "5ea212fb-a355-4016-b435-039208da093b",
   "metadata": {},
   "outputs": [],
   "source": [
    "# Convert the matrix into a DataFrame for easier inspection\n",
    "count_df = pd.DataFrame(count_matrix.toarray(), columns=count_vectorizer.get_feature_names_out())"
   ]
  },
  {
   "cell_type": "code",
   "execution_count": 38,
   "id": "4a15b97b-ca35-425f-9213-86de6b8e49cb",
   "metadata": {},
   "outputs": [],
   "source": [
    "# Add the Count Vectorizer DataFrame as a new column in the original movies_df\n",
    "movies_df['Count_Vector'] = list(count_df.values)"
   ]
  },
  {
   "cell_type": "code",
   "execution_count": 40,
   "id": "e05fd301-d4c0-4f62-9234-b82c999a54ed",
   "metadata": {},
   "outputs": [
    {
     "data": {
      "text/html": [
       "<div>\n",
       "<style scoped>\n",
       "    .dataframe tbody tr th:only-of-type {\n",
       "        vertical-align: middle;\n",
       "    }\n",
       "\n",
       "    .dataframe tbody tr th {\n",
       "        vertical-align: top;\n",
       "    }\n",
       "\n",
       "    .dataframe thead th {\n",
       "        text-align: right;\n",
       "    }\n",
       "</style>\n",
       "<table border=\"1\" class=\"dataframe\">\n",
       "  <thead>\n",
       "    <tr style=\"text-align: right;\">\n",
       "      <th></th>\n",
       "      <th>Unnamed: 0</th>\n",
       "      <th>MovieName</th>\n",
       "      <th>StoryLine</th>\n",
       "      <th>cleaned_storyline</th>\n",
       "      <th>Count_Vector</th>\n",
       "    </tr>\n",
       "  </thead>\n",
       "  <tbody>\n",
       "    <tr>\n",
       "      <th>0</th>\n",
       "      <td>0</td>\n",
       "      <td>Carry-On</td>\n",
       "      <td>A mysterious traveler blackmails a young TSA a...</td>\n",
       "      <td>mysterious traveler blackmail young tsa agent ...</td>\n",
       "      <td>[0, 0, 0, 0, 0, 0, 0, 0, 0, 0, 0, 0, 0, 0, 0, ...</td>\n",
       "    </tr>\n",
       "    <tr>\n",
       "      <th>1</th>\n",
       "      <td>1</td>\n",
       "      <td>Red One</td>\n",
       "      <td>After Santa Claus is kidnapped, the North Pole...</td>\n",
       "      <td>santa claus kidnapped north pole head security...</td>\n",
       "      <td>[0, 0, 0, 0, 0, 0, 0, 0, 0, 0, 0, 0, 0, 0, 0, ...</td>\n",
       "    </tr>\n",
       "    <tr>\n",
       "      <th>2</th>\n",
       "      <td>2</td>\n",
       "      <td>Pushpa: The Rule - Part 2</td>\n",
       "      <td>Pushpa struggles to sustain his sandalwood smu...</td>\n",
       "      <td>pushpa struggle sustain sandalwood smuggling b...</td>\n",
       "      <td>[0, 0, 0, 0, 0, 0, 0, 0, 0, 0, 0, 0, 0, 0, 0, ...</td>\n",
       "    </tr>\n",
       "    <tr>\n",
       "      <th>3</th>\n",
       "      <td>3</td>\n",
       "      <td>Black Doves</td>\n",
       "      <td>Helen embarks on a passionate affair with a ma...</td>\n",
       "      <td>helen embarks passionate affair man idea secre...</td>\n",
       "      <td>[0, 0, 0, 0, 0, 0, 0, 0, 0, 0, 0, 0, 0, 0, 0, ...</td>\n",
       "    </tr>\n",
       "    <tr>\n",
       "      <th>4</th>\n",
       "      <td>4</td>\n",
       "      <td>No Good Deed</td>\n",
       "      <td>It tells the story of three very different fam...</td>\n",
       "      <td>tell story three different family vying buy sp...</td>\n",
       "      <td>[0, 0, 0, 0, 0, 0, 0, 0, 0, 0, 0, 0, 0, 0, 0, ...</td>\n",
       "    </tr>\n",
       "  </tbody>\n",
       "</table>\n",
       "</div>"
      ],
      "text/plain": [
       "   Unnamed: 0                  MovieName  \\\n",
       "0           0                   Carry-On   \n",
       "1           1                    Red One   \n",
       "2           2  Pushpa: The Rule - Part 2   \n",
       "3           3                Black Doves   \n",
       "4           4               No Good Deed   \n",
       "\n",
       "                                           StoryLine  \\\n",
       "0  A mysterious traveler blackmails a young TSA a...   \n",
       "1  After Santa Claus is kidnapped, the North Pole...   \n",
       "2  Pushpa struggles to sustain his sandalwood smu...   \n",
       "3  Helen embarks on a passionate affair with a ma...   \n",
       "4  It tells the story of three very different fam...   \n",
       "\n",
       "                                   cleaned_storyline  \\\n",
       "0  mysterious traveler blackmail young tsa agent ...   \n",
       "1  santa claus kidnapped north pole head security...   \n",
       "2  pushpa struggle sustain sandalwood smuggling b...   \n",
       "3  helen embarks passionate affair man idea secre...   \n",
       "4  tell story three different family vying buy sp...   \n",
       "\n",
       "                                        Count_Vector  \n",
       "0  [0, 0, 0, 0, 0, 0, 0, 0, 0, 0, 0, 0, 0, 0, 0, ...  \n",
       "1  [0, 0, 0, 0, 0, 0, 0, 0, 0, 0, 0, 0, 0, 0, 0, ...  \n",
       "2  [0, 0, 0, 0, 0, 0, 0, 0, 0, 0, 0, 0, 0, 0, 0, ...  \n",
       "3  [0, 0, 0, 0, 0, 0, 0, 0, 0, 0, 0, 0, 0, 0, 0, ...  \n",
       "4  [0, 0, 0, 0, 0, 0, 0, 0, 0, 0, 0, 0, 0, 0, 0, ...  "
      ]
     },
     "execution_count": 40,
     "metadata": {},
     "output_type": "execute_result"
    }
   ],
   "source": [
    "movies_df.head()"
   ]
  },
  {
   "cell_type": "markdown",
   "id": "9f658f67-f7de-4272-8f70-4b425833a666",
   "metadata": {},
   "source": [
    "# Cosine Similarity:"
   ]
  },
  {
   "cell_type": "code",
   "execution_count": 43,
   "id": "54359d3d-c5a1-4c09-abb7-c8735e3d0ffb",
   "metadata": {},
   "outputs": [],
   "source": [
    "from sklearn.metrics.pairwise import cosine_similarity"
   ]
  },
  {
   "cell_type": "code",
   "execution_count": 45,
   "id": "bcacf04f-802c-484f-89c5-f2d66e90373d",
   "metadata": {},
   "outputs": [],
   "source": [
    "# Extract the Count_Vector column as a matrix\n",
    "count_matrix = np.array(movies_df['Count_Vector'].to_list())"
   ]
  },
  {
   "cell_type": "code",
   "execution_count": 47,
   "id": "ea6cc312-29e5-4940-bed6-02e0d4883ccb",
   "metadata": {},
   "outputs": [
    {
     "data": {
      "text/plain": [
       "array([[0, 0, 0, ..., 0, 1, 0],\n",
       "       [0, 0, 0, ..., 0, 0, 0],\n",
       "       [0, 0, 0, ..., 0, 0, 0],\n",
       "       ...,\n",
       "       [0, 0, 0, ..., 0, 0, 0],\n",
       "       [0, 0, 0, ..., 0, 0, 0],\n",
       "       [0, 0, 0, ..., 0, 0, 0]], dtype=int64)"
      ]
     },
     "execution_count": 47,
     "metadata": {},
     "output_type": "execute_result"
    }
   ],
   "source": [
    "count_matrix"
   ]
  },
  {
   "cell_type": "code",
   "execution_count": 49,
   "id": "8ef9a43f-863e-4bd3-b1c6-f690fdc15bec",
   "metadata": {},
   "outputs": [],
   "source": [
    "# Calculate the cosine similarity matrix\n",
    "cosine_sim_matrix = cosine_similarity(count_matrix)"
   ]
  },
  {
   "cell_type": "code",
   "execution_count": 51,
   "id": "59ced272-7614-479e-bf4f-9d5106660ade",
   "metadata": {},
   "outputs": [
    {
     "data": {
      "text/plain": [
       "array([[1.        , 0.1754116 , 0.        , ..., 0.08451543, 0.        ,\n",
       "        0.07254763],\n",
       "       [0.1754116 , 1.        , 0.        , ..., 0.        , 0.        ,\n",
       "        0.06362848],\n",
       "       [0.        , 0.        , 1.        , ..., 0.08908708, 0.        ,\n",
       "        0.        ],\n",
       "       ...,\n",
       "       [0.08451543, 0.        , 0.08908708, ..., 1.        , 0.        ,\n",
       "        0.06131393],\n",
       "       [0.        , 0.        , 0.        , ..., 0.        , 1.        ,\n",
       "        0.        ],\n",
       "       [0.07254763, 0.06362848, 0.        , ..., 0.06131393, 0.        ,\n",
       "        1.        ]])"
      ]
     },
     "execution_count": 51,
     "metadata": {},
     "output_type": "execute_result"
    }
   ],
   "source": [
    "cosine_sim_matrix"
   ]
  },
  {
   "cell_type": "code",
   "execution_count": 53,
   "id": "ba6bcf6c-a538-4cd0-8e39-3111e73cb5eb",
   "metadata": {},
   "outputs": [],
   "source": [
    "# Function to get ranked movie names for a given movie\n",
    "def get_ranked_movies(index, cosine_sim_matrix, movies_df, top_n=5):\n",
    "    # Get the similarity scores for the given movie\n",
    "    sim_scores = list(enumerate(cosine_sim_matrix[index]))\n",
    "    \n",
    "    # Sort the movies by similarity score in descending order\n",
    "    sorted_sim_scores = sorted(sim_scores, key=lambda x: x[1], reverse=True)\n",
    "    \n",
    "    # Get the indices of the top N most similar movies (excluding itself)\n",
    "    top_movies = sorted_sim_scores[1:top_n+1]  # Skip the first one, as it's the movie itself\n",
    "    \n",
    "    # Retrieve the movie names\n",
    "    ranked_movies = [movies_df.iloc[i]['MovieName'] for i, score in top_movies]\n",
    "    return ranked_movies"
   ]
  },
  {
   "cell_type": "code",
   "execution_count": 55,
   "id": "48bb3a82-9ed4-48af-b6d5-f613f7ef497e",
   "metadata": {},
   "outputs": [],
   "source": [
    "# Add a new column with ranked movies\n",
    "movies_df['Ranked_Movies'] = [\n",
    "    get_ranked_movies(i, cosine_sim_matrix, movies_df) for i in range(len(movies_df))\n",
    "]"
   ]
  },
  {
   "cell_type": "code",
   "execution_count": 57,
   "id": "926d4a77-0495-48eb-89df-cdf34a151aef",
   "metadata": {},
   "outputs": [
    {
     "data": {
      "text/html": [
       "<div>\n",
       "<style scoped>\n",
       "    .dataframe tbody tr th:only-of-type {\n",
       "        vertical-align: middle;\n",
       "    }\n",
       "\n",
       "    .dataframe tbody tr th {\n",
       "        vertical-align: top;\n",
       "    }\n",
       "\n",
       "    .dataframe thead th {\n",
       "        text-align: right;\n",
       "    }\n",
       "</style>\n",
       "<table border=\"1\" class=\"dataframe\">\n",
       "  <thead>\n",
       "    <tr style=\"text-align: right;\">\n",
       "      <th></th>\n",
       "      <th>Unnamed: 0</th>\n",
       "      <th>MovieName</th>\n",
       "      <th>StoryLine</th>\n",
       "      <th>cleaned_storyline</th>\n",
       "      <th>Count_Vector</th>\n",
       "      <th>Ranked_Movies</th>\n",
       "    </tr>\n",
       "  </thead>\n",
       "  <tbody>\n",
       "    <tr>\n",
       "      <th>0</th>\n",
       "      <td>0</td>\n",
       "      <td>Carry-On</td>\n",
       "      <td>A mysterious traveler blackmails a young TSA a...</td>\n",
       "      <td>mysterious traveler blackmail young tsa agent ...</td>\n",
       "      <td>[0, 0, 0, 0, 0, 0, 0, 0, 0, 0, 0, 0, 0, 0, 0, ...</td>\n",
       "      <td>[Terrifier 3, No Time to Die, Skeleton Crew, D...</td>\n",
       "    </tr>\n",
       "    <tr>\n",
       "      <th>1</th>\n",
       "      <td>1</td>\n",
       "      <td>Red One</td>\n",
       "      <td>After Santa Claus is kidnapped, the North Pole...</td>\n",
       "      <td>santa claus kidnapped north pole head security...</td>\n",
       "      <td>[0, 0, 0, 0, 0, 0, 0, 0, 0, 0, 0, 0, 0, 0, 0, ...</td>\n",
       "      <td>[Violent Night, The Santa Class, The Santa Cla...</td>\n",
       "    </tr>\n",
       "    <tr>\n",
       "      <th>2</th>\n",
       "      <td>2</td>\n",
       "      <td>Pushpa: The Rule - Part 2</td>\n",
       "      <td>Pushpa struggles to sustain his sandalwood smu...</td>\n",
       "      <td>pushpa struggle sustain sandalwood smuggling b...</td>\n",
       "      <td>[0, 0, 0, 0, 0, 0, 0, 0, 0, 0, 0, 0, 0, 0, 0, ...</td>\n",
       "      <td>[Pushpa: The Rise - Part 1, Alien: Romulus, Ma...</td>\n",
       "    </tr>\n",
       "    <tr>\n",
       "      <th>3</th>\n",
       "      <td>3</td>\n",
       "      <td>Black Doves</td>\n",
       "      <td>Helen embarks on a passionate affair with a ma...</td>\n",
       "      <td>helen embarks passionate affair man idea secre...</td>\n",
       "      <td>[0, 0, 0, 0, 0, 0, 0, 0, 0, 0, 0, 0, 0, 0, 0, ...</td>\n",
       "      <td>[Ghosts, Moana 2, A Man on the Inside, Spider-...</td>\n",
       "    </tr>\n",
       "    <tr>\n",
       "      <th>4</th>\n",
       "      <td>4</td>\n",
       "      <td>No Good Deed</td>\n",
       "      <td>It tells the story of three very different fam...</td>\n",
       "      <td>tell story three different family vying buy sp...</td>\n",
       "      <td>[0, 0, 0, 0, 0, 0, 0, 0, 0, 0, 0, 0, 0, 0, 0, ...</td>\n",
       "      <td>[Here, Beetlejuice Beetlejuice, Thukra Ke Mera...</td>\n",
       "    </tr>\n",
       "  </tbody>\n",
       "</table>\n",
       "</div>"
      ],
      "text/plain": [
       "   Unnamed: 0                  MovieName  \\\n",
       "0           0                   Carry-On   \n",
       "1           1                    Red One   \n",
       "2           2  Pushpa: The Rule - Part 2   \n",
       "3           3                Black Doves   \n",
       "4           4               No Good Deed   \n",
       "\n",
       "                                           StoryLine  \\\n",
       "0  A mysterious traveler blackmails a young TSA a...   \n",
       "1  After Santa Claus is kidnapped, the North Pole...   \n",
       "2  Pushpa struggles to sustain his sandalwood smu...   \n",
       "3  Helen embarks on a passionate affair with a ma...   \n",
       "4  It tells the story of three very different fam...   \n",
       "\n",
       "                                   cleaned_storyline  \\\n",
       "0  mysterious traveler blackmail young tsa agent ...   \n",
       "1  santa claus kidnapped north pole head security...   \n",
       "2  pushpa struggle sustain sandalwood smuggling b...   \n",
       "3  helen embarks passionate affair man idea secre...   \n",
       "4  tell story three different family vying buy sp...   \n",
       "\n",
       "                                        Count_Vector  \\\n",
       "0  [0, 0, 0, 0, 0, 0, 0, 0, 0, 0, 0, 0, 0, 0, 0, ...   \n",
       "1  [0, 0, 0, 0, 0, 0, 0, 0, 0, 0, 0, 0, 0, 0, 0, ...   \n",
       "2  [0, 0, 0, 0, 0, 0, 0, 0, 0, 0, 0, 0, 0, 0, 0, ...   \n",
       "3  [0, 0, 0, 0, 0, 0, 0, 0, 0, 0, 0, 0, 0, 0, 0, ...   \n",
       "4  [0, 0, 0, 0, 0, 0, 0, 0, 0, 0, 0, 0, 0, 0, 0, ...   \n",
       "\n",
       "                                       Ranked_Movies  \n",
       "0  [Terrifier 3, No Time to Die, Skeleton Crew, D...  \n",
       "1  [Violent Night, The Santa Class, The Santa Cla...  \n",
       "2  [Pushpa: The Rise - Part 1, Alien: Romulus, Ma...  \n",
       "3  [Ghosts, Moana 2, A Man on the Inside, Spider-...  \n",
       "4  [Here, Beetlejuice Beetlejuice, Thukra Ke Mera...  "
      ]
     },
     "execution_count": 57,
     "metadata": {},
     "output_type": "execute_result"
    }
   ],
   "source": [
    "movies_df.head()"
   ]
  },
  {
   "cell_type": "code",
   "execution_count": 59,
   "id": "a2171974-4bf2-4aaa-b48f-ce0a28c49a91",
   "metadata": {},
   "outputs": [],
   "source": [
    "movies_df_clone = movies_df"
   ]
  },
  {
   "cell_type": "code",
   "execution_count": 61,
   "id": "34523f0d-b98f-4e19-97f2-e3de97d5fde8",
   "metadata": {},
   "outputs": [
    {
     "data": {
      "text/html": [
       "<div>\n",
       "<style scoped>\n",
       "    .dataframe tbody tr th:only-of-type {\n",
       "        vertical-align: middle;\n",
       "    }\n",
       "\n",
       "    .dataframe tbody tr th {\n",
       "        vertical-align: top;\n",
       "    }\n",
       "\n",
       "    .dataframe thead th {\n",
       "        text-align: right;\n",
       "    }\n",
       "</style>\n",
       "<table border=\"1\" class=\"dataframe\">\n",
       "  <thead>\n",
       "    <tr style=\"text-align: right;\">\n",
       "      <th></th>\n",
       "      <th>Unnamed: 0</th>\n",
       "      <th>MovieName</th>\n",
       "      <th>StoryLine</th>\n",
       "      <th>cleaned_storyline</th>\n",
       "      <th>Count_Vector</th>\n",
       "      <th>Ranked_Movies</th>\n",
       "    </tr>\n",
       "  </thead>\n",
       "  <tbody>\n",
       "    <tr>\n",
       "      <th>0</th>\n",
       "      <td>0</td>\n",
       "      <td>Carry-On</td>\n",
       "      <td>A mysterious traveler blackmails a young TSA a...</td>\n",
       "      <td>mysterious traveler blackmail young tsa agent ...</td>\n",
       "      <td>[0, 0, 0, 0, 0, 0, 0, 0, 0, 0, 0, 0, 0, 0, 0, ...</td>\n",
       "      <td>[Terrifier 3, No Time to Die, Skeleton Crew, D...</td>\n",
       "    </tr>\n",
       "    <tr>\n",
       "      <th>1</th>\n",
       "      <td>1</td>\n",
       "      <td>Red One</td>\n",
       "      <td>After Santa Claus is kidnapped, the North Pole...</td>\n",
       "      <td>santa claus kidnapped north pole head security...</td>\n",
       "      <td>[0, 0, 0, 0, 0, 0, 0, 0, 0, 0, 0, 0, 0, 0, 0, ...</td>\n",
       "      <td>[Violent Night, The Santa Class, The Santa Cla...</td>\n",
       "    </tr>\n",
       "    <tr>\n",
       "      <th>2</th>\n",
       "      <td>2</td>\n",
       "      <td>Pushpa: The Rule - Part 2</td>\n",
       "      <td>Pushpa struggles to sustain his sandalwood smu...</td>\n",
       "      <td>pushpa struggle sustain sandalwood smuggling b...</td>\n",
       "      <td>[0, 0, 0, 0, 0, 0, 0, 0, 0, 0, 0, 0, 0, 0, 0, ...</td>\n",
       "      <td>[Pushpa: The Rise - Part 1, Alien: Romulus, Ma...</td>\n",
       "    </tr>\n",
       "    <tr>\n",
       "      <th>3</th>\n",
       "      <td>3</td>\n",
       "      <td>Black Doves</td>\n",
       "      <td>Helen embarks on a passionate affair with a ma...</td>\n",
       "      <td>helen embarks passionate affair man idea secre...</td>\n",
       "      <td>[0, 0, 0, 0, 0, 0, 0, 0, 0, 0, 0, 0, 0, 0, 0, ...</td>\n",
       "      <td>[Ghosts, Moana 2, A Man on the Inside, Spider-...</td>\n",
       "    </tr>\n",
       "    <tr>\n",
       "      <th>4</th>\n",
       "      <td>4</td>\n",
       "      <td>No Good Deed</td>\n",
       "      <td>It tells the story of three very different fam...</td>\n",
       "      <td>tell story three different family vying buy sp...</td>\n",
       "      <td>[0, 0, 0, 0, 0, 0, 0, 0, 0, 0, 0, 0, 0, 0, 0, ...</td>\n",
       "      <td>[Here, Beetlejuice Beetlejuice, Thukra Ke Mera...</td>\n",
       "    </tr>\n",
       "  </tbody>\n",
       "</table>\n",
       "</div>"
      ],
      "text/plain": [
       "   Unnamed: 0                  MovieName  \\\n",
       "0           0                   Carry-On   \n",
       "1           1                    Red One   \n",
       "2           2  Pushpa: The Rule - Part 2   \n",
       "3           3                Black Doves   \n",
       "4           4               No Good Deed   \n",
       "\n",
       "                                           StoryLine  \\\n",
       "0  A mysterious traveler blackmails a young TSA a...   \n",
       "1  After Santa Claus is kidnapped, the North Pole...   \n",
       "2  Pushpa struggles to sustain his sandalwood smu...   \n",
       "3  Helen embarks on a passionate affair with a ma...   \n",
       "4  It tells the story of three very different fam...   \n",
       "\n",
       "                                   cleaned_storyline  \\\n",
       "0  mysterious traveler blackmail young tsa agent ...   \n",
       "1  santa claus kidnapped north pole head security...   \n",
       "2  pushpa struggle sustain sandalwood smuggling b...   \n",
       "3  helen embarks passionate affair man idea secre...   \n",
       "4  tell story three different family vying buy sp...   \n",
       "\n",
       "                                        Count_Vector  \\\n",
       "0  [0, 0, 0, 0, 0, 0, 0, 0, 0, 0, 0, 0, 0, 0, 0, ...   \n",
       "1  [0, 0, 0, 0, 0, 0, 0, 0, 0, 0, 0, 0, 0, 0, 0, ...   \n",
       "2  [0, 0, 0, 0, 0, 0, 0, 0, 0, 0, 0, 0, 0, 0, 0, ...   \n",
       "3  [0, 0, 0, 0, 0, 0, 0, 0, 0, 0, 0, 0, 0, 0, 0, ...   \n",
       "4  [0, 0, 0, 0, 0, 0, 0, 0, 0, 0, 0, 0, 0, 0, 0, ...   \n",
       "\n",
       "                                       Ranked_Movies  \n",
       "0  [Terrifier 3, No Time to Die, Skeleton Crew, D...  \n",
       "1  [Violent Night, The Santa Class, The Santa Cla...  \n",
       "2  [Pushpa: The Rise - Part 1, Alien: Romulus, Ma...  \n",
       "3  [Ghosts, Moana 2, A Man on the Inside, Spider-...  \n",
       "4  [Here, Beetlejuice Beetlejuice, Thukra Ke Mera...  "
      ]
     },
     "execution_count": 61,
     "metadata": {},
     "output_type": "execute_result"
    }
   ],
   "source": [
    "movies_df_clone.head()"
   ]
  },
  {
   "cell_type": "code",
   "execution_count": 63,
   "id": "dd67d593-90a1-4e4d-b278-be86da5d79f9",
   "metadata": {},
   "outputs": [],
   "source": [
    "movies_df_clone = movies_df_clone.drop(columns=['Unnamed: 0', 'Count_Vector', 'Ranked_Movies'])"
   ]
  },
  {
   "cell_type": "code",
   "execution_count": 65,
   "id": "e5e5cedc-e688-4748-bc69-a38b8aa7657c",
   "metadata": {},
   "outputs": [
    {
     "data": {
      "text/html": [
       "<div>\n",
       "<style scoped>\n",
       "    .dataframe tbody tr th:only-of-type {\n",
       "        vertical-align: middle;\n",
       "    }\n",
       "\n",
       "    .dataframe tbody tr th {\n",
       "        vertical-align: top;\n",
       "    }\n",
       "\n",
       "    .dataframe thead th {\n",
       "        text-align: right;\n",
       "    }\n",
       "</style>\n",
       "<table border=\"1\" class=\"dataframe\">\n",
       "  <thead>\n",
       "    <tr style=\"text-align: right;\">\n",
       "      <th></th>\n",
       "      <th>MovieName</th>\n",
       "      <th>StoryLine</th>\n",
       "      <th>cleaned_storyline</th>\n",
       "    </tr>\n",
       "  </thead>\n",
       "  <tbody>\n",
       "    <tr>\n",
       "      <th>0</th>\n",
       "      <td>Carry-On</td>\n",
       "      <td>A mysterious traveler blackmails a young TSA a...</td>\n",
       "      <td>mysterious traveler blackmail young tsa agent ...</td>\n",
       "    </tr>\n",
       "    <tr>\n",
       "      <th>1</th>\n",
       "      <td>Red One</td>\n",
       "      <td>After Santa Claus is kidnapped, the North Pole...</td>\n",
       "      <td>santa claus kidnapped north pole head security...</td>\n",
       "    </tr>\n",
       "    <tr>\n",
       "      <th>2</th>\n",
       "      <td>Pushpa: The Rule - Part 2</td>\n",
       "      <td>Pushpa struggles to sustain his sandalwood smu...</td>\n",
       "      <td>pushpa struggle sustain sandalwood smuggling b...</td>\n",
       "    </tr>\n",
       "    <tr>\n",
       "      <th>3</th>\n",
       "      <td>Black Doves</td>\n",
       "      <td>Helen embarks on a passionate affair with a ma...</td>\n",
       "      <td>helen embarks passionate affair man idea secre...</td>\n",
       "    </tr>\n",
       "    <tr>\n",
       "      <th>4</th>\n",
       "      <td>No Good Deed</td>\n",
       "      <td>It tells the story of three very different fam...</td>\n",
       "      <td>tell story three different family vying buy sp...</td>\n",
       "    </tr>\n",
       "  </tbody>\n",
       "</table>\n",
       "</div>"
      ],
      "text/plain": [
       "                   MovieName  \\\n",
       "0                   Carry-On   \n",
       "1                    Red One   \n",
       "2  Pushpa: The Rule - Part 2   \n",
       "3                Black Doves   \n",
       "4               No Good Deed   \n",
       "\n",
       "                                           StoryLine  \\\n",
       "0  A mysterious traveler blackmails a young TSA a...   \n",
       "1  After Santa Claus is kidnapped, the North Pole...   \n",
       "2  Pushpa struggles to sustain his sandalwood smu...   \n",
       "3  Helen embarks on a passionate affair with a ma...   \n",
       "4  It tells the story of three very different fam...   \n",
       "\n",
       "                                   cleaned_storyline  \n",
       "0  mysterious traveler blackmail young tsa agent ...  \n",
       "1  santa claus kidnapped north pole head security...  \n",
       "2  pushpa struggle sustain sandalwood smuggling b...  \n",
       "3  helen embarks passionate affair man idea secre...  \n",
       "4  tell story three different family vying buy sp...  "
      ]
     },
     "execution_count": 65,
     "metadata": {},
     "output_type": "execute_result"
    }
   ],
   "source": [
    "movies_df_clone.head()"
   ]
  },
  {
   "cell_type": "code",
   "execution_count": 69,
   "id": "ca763612-0f19-4236-a65a-5673ac99ebbb",
   "metadata": {},
   "outputs": [],
   "source": [
    "movies_df_clone['MovieName'] = movies_df_clone['MovieName'].astype(str)\n",
    "movies_df_clone['StoryLine'] = movies_df_clone['StoryLine'].astype(str)\n",
    "movies_df_clone['cleaned_storyline'] = movies_df_clone['cleaned_storyline'].astype(str)"
   ]
  },
  {
   "cell_type": "code",
   "execution_count": 71,
   "id": "9dd432dd-b4dc-44a0-a019-368b4248f966",
   "metadata": {},
   "outputs": [
    {
     "name": "stdout",
     "output_type": "stream",
     "text": [
      "<class 'pandas.core.frame.DataFrame'>\n",
      "RangeIndex: 250 entries, 0 to 249\n",
      "Data columns (total 3 columns):\n",
      " #   Column             Non-Null Count  Dtype \n",
      "---  ------             --------------  ----- \n",
      " 0   MovieName          250 non-null    object\n",
      " 1   StoryLine          250 non-null    object\n",
      " 2   cleaned_storyline  250 non-null    object\n",
      "dtypes: object(3)\n",
      "memory usage: 6.0+ KB\n"
     ]
    }
   ],
   "source": [
    "movies_df_clone.info()"
   ]
  },
  {
   "cell_type": "code",
   "execution_count": 73,
   "id": "764b9ff8-9da9-4a2e-b161-9e1b6d2e6870",
   "metadata": {},
   "outputs": [],
   "source": [
    "movies_df_clone.to_csv(\"imdb_movies_datas_002.csv\")"
   ]
  },
  {
   "cell_type": "code",
   "execution_count": 77,
   "id": "364f8c5c-0a94-40da-a6ff-7f164e4e9644",
   "metadata": {},
   "outputs": [
    {
     "data": {
      "text/html": [
       "<div>\n",
       "<style scoped>\n",
       "    .dataframe tbody tr th:only-of-type {\n",
       "        vertical-align: middle;\n",
       "    }\n",
       "\n",
       "    .dataframe tbody tr th {\n",
       "        vertical-align: top;\n",
       "    }\n",
       "\n",
       "    .dataframe thead th {\n",
       "        text-align: right;\n",
       "    }\n",
       "</style>\n",
       "<table border=\"1\" class=\"dataframe\">\n",
       "  <thead>\n",
       "    <tr style=\"text-align: right;\">\n",
       "      <th></th>\n",
       "      <th>Unnamed: 0</th>\n",
       "      <th>MovieName</th>\n",
       "      <th>StoryLine</th>\n",
       "      <th>cleaned_storyline</th>\n",
       "      <th>Count_Vector</th>\n",
       "      <th>Ranked_Movies</th>\n",
       "    </tr>\n",
       "  </thead>\n",
       "  <tbody>\n",
       "    <tr>\n",
       "      <th>0</th>\n",
       "      <td>0</td>\n",
       "      <td>Carry-On</td>\n",
       "      <td>A mysterious traveler blackmails a young TSA a...</td>\n",
       "      <td>mysterious traveler blackmail young tsa agent ...</td>\n",
       "      <td>[0, 0, 0, 0, 0, 0, 0, 0, 0, 0, 0, 0, 0, 0, 0, ...</td>\n",
       "      <td>[Terrifier 3, No Time to Die, Skeleton Crew, D...</td>\n",
       "    </tr>\n",
       "    <tr>\n",
       "      <th>1</th>\n",
       "      <td>1</td>\n",
       "      <td>Red One</td>\n",
       "      <td>After Santa Claus is kidnapped, the North Pole...</td>\n",
       "      <td>santa claus kidnapped north pole head security...</td>\n",
       "      <td>[0, 0, 0, 0, 0, 0, 0, 0, 0, 0, 0, 0, 0, 0, 0, ...</td>\n",
       "      <td>[Violent Night, The Santa Class, The Santa Cla...</td>\n",
       "    </tr>\n",
       "    <tr>\n",
       "      <th>2</th>\n",
       "      <td>2</td>\n",
       "      <td>Pushpa: The Rule - Part 2</td>\n",
       "      <td>Pushpa struggles to sustain his sandalwood smu...</td>\n",
       "      <td>pushpa struggle sustain sandalwood smuggling b...</td>\n",
       "      <td>[0, 0, 0, 0, 0, 0, 0, 0, 0, 0, 0, 0, 0, 0, 0, ...</td>\n",
       "      <td>[Pushpa: The Rise - Part 1, Alien: Romulus, Ma...</td>\n",
       "    </tr>\n",
       "    <tr>\n",
       "      <th>3</th>\n",
       "      <td>3</td>\n",
       "      <td>Black Doves</td>\n",
       "      <td>Helen embarks on a passionate affair with a ma...</td>\n",
       "      <td>helen embarks passionate affair man idea secre...</td>\n",
       "      <td>[0, 0, 0, 0, 0, 0, 0, 0, 0, 0, 0, 0, 0, 0, 0, ...</td>\n",
       "      <td>[Ghosts, Moana 2, A Man on the Inside, Spider-...</td>\n",
       "    </tr>\n",
       "    <tr>\n",
       "      <th>4</th>\n",
       "      <td>4</td>\n",
       "      <td>No Good Deed</td>\n",
       "      <td>It tells the story of three very different fam...</td>\n",
       "      <td>tell story three different family vying buy sp...</td>\n",
       "      <td>[0, 0, 0, 0, 0, 0, 0, 0, 0, 0, 0, 0, 0, 0, 0, ...</td>\n",
       "      <td>[Here, Beetlejuice Beetlejuice, Thukra Ke Mera...</td>\n",
       "    </tr>\n",
       "  </tbody>\n",
       "</table>\n",
       "</div>"
      ],
      "text/plain": [
       "   Unnamed: 0                  MovieName  \\\n",
       "0           0                   Carry-On   \n",
       "1           1                    Red One   \n",
       "2           2  Pushpa: The Rule - Part 2   \n",
       "3           3                Black Doves   \n",
       "4           4               No Good Deed   \n",
       "\n",
       "                                           StoryLine  \\\n",
       "0  A mysterious traveler blackmails a young TSA a...   \n",
       "1  After Santa Claus is kidnapped, the North Pole...   \n",
       "2  Pushpa struggles to sustain his sandalwood smu...   \n",
       "3  Helen embarks on a passionate affair with a ma...   \n",
       "4  It tells the story of three very different fam...   \n",
       "\n",
       "                                   cleaned_storyline  \\\n",
       "0  mysterious traveler blackmail young tsa agent ...   \n",
       "1  santa claus kidnapped north pole head security...   \n",
       "2  pushpa struggle sustain sandalwood smuggling b...   \n",
       "3  helen embarks passionate affair man idea secre...   \n",
       "4  tell story three different family vying buy sp...   \n",
       "\n",
       "                                        Count_Vector  \\\n",
       "0  [0, 0, 0, 0, 0, 0, 0, 0, 0, 0, 0, 0, 0, 0, 0, ...   \n",
       "1  [0, 0, 0, 0, 0, 0, 0, 0, 0, 0, 0, 0, 0, 0, 0, ...   \n",
       "2  [0, 0, 0, 0, 0, 0, 0, 0, 0, 0, 0, 0, 0, 0, 0, ...   \n",
       "3  [0, 0, 0, 0, 0, 0, 0, 0, 0, 0, 0, 0, 0, 0, 0, ...   \n",
       "4  [0, 0, 0, 0, 0, 0, 0, 0, 0, 0, 0, 0, 0, 0, 0, ...   \n",
       "\n",
       "                                       Ranked_Movies  \n",
       "0  [Terrifier 3, No Time to Die, Skeleton Crew, D...  \n",
       "1  [Violent Night, The Santa Class, The Santa Cla...  \n",
       "2  [Pushpa: The Rise - Part 1, Alien: Romulus, Ma...  \n",
       "3  [Ghosts, Moana 2, A Man on the Inside, Spider-...  \n",
       "4  [Here, Beetlejuice Beetlejuice, Thukra Ke Mera...  "
      ]
     },
     "execution_count": 77,
     "metadata": {},
     "output_type": "execute_result"
    }
   ],
   "source": [
    "movies_df.head()"
   ]
  },
  {
   "cell_type": "code",
   "execution_count": 79,
   "id": "86ee4f47-cb57-466f-9984-773a5f350fe5",
   "metadata": {},
   "outputs": [],
   "source": [
    "movies_df = movies_df.drop(columns  = ['Unnamed: 0'])"
   ]
  },
  {
   "cell_type": "code",
   "execution_count": 81,
   "id": "a44ee50d-c465-45c7-a71e-eabe99124757",
   "metadata": {},
   "outputs": [],
   "source": [
    "movies_df['MovieName'] = movies_df['MovieName'].astype(str)\n",
    "movies_df['StoryLine'] = movies_df['StoryLine'].astype(str)\n",
    "movies_df['cleaned_storyline'] = movies_df['cleaned_storyline'].astype(str)"
   ]
  },
  {
   "cell_type": "code",
   "execution_count": 83,
   "id": "c0f9e6a6-413c-43c4-bf52-f65d0340e189",
   "metadata": {},
   "outputs": [
    {
     "data": {
      "text/html": [
       "<div>\n",
       "<style scoped>\n",
       "    .dataframe tbody tr th:only-of-type {\n",
       "        vertical-align: middle;\n",
       "    }\n",
       "\n",
       "    .dataframe tbody tr th {\n",
       "        vertical-align: top;\n",
       "    }\n",
       "\n",
       "    .dataframe thead th {\n",
       "        text-align: right;\n",
       "    }\n",
       "</style>\n",
       "<table border=\"1\" class=\"dataframe\">\n",
       "  <thead>\n",
       "    <tr style=\"text-align: right;\">\n",
       "      <th></th>\n",
       "      <th>MovieName</th>\n",
       "      <th>StoryLine</th>\n",
       "      <th>cleaned_storyline</th>\n",
       "      <th>Count_Vector</th>\n",
       "      <th>Ranked_Movies</th>\n",
       "    </tr>\n",
       "  </thead>\n",
       "  <tbody>\n",
       "    <tr>\n",
       "      <th>0</th>\n",
       "      <td>Carry-On</td>\n",
       "      <td>A mysterious traveler blackmails a young TSA a...</td>\n",
       "      <td>mysterious traveler blackmail young tsa agent ...</td>\n",
       "      <td>[0, 0, 0, 0, 0, 0, 0, 0, 0, 0, 0, 0, 0, 0, 0, ...</td>\n",
       "      <td>[Terrifier 3, No Time to Die, Skeleton Crew, D...</td>\n",
       "    </tr>\n",
       "    <tr>\n",
       "      <th>1</th>\n",
       "      <td>Red One</td>\n",
       "      <td>After Santa Claus is kidnapped, the North Pole...</td>\n",
       "      <td>santa claus kidnapped north pole head security...</td>\n",
       "      <td>[0, 0, 0, 0, 0, 0, 0, 0, 0, 0, 0, 0, 0, 0, 0, ...</td>\n",
       "      <td>[Violent Night, The Santa Class, The Santa Cla...</td>\n",
       "    </tr>\n",
       "    <tr>\n",
       "      <th>2</th>\n",
       "      <td>Pushpa: The Rule - Part 2</td>\n",
       "      <td>Pushpa struggles to sustain his sandalwood smu...</td>\n",
       "      <td>pushpa struggle sustain sandalwood smuggling b...</td>\n",
       "      <td>[0, 0, 0, 0, 0, 0, 0, 0, 0, 0, 0, 0, 0, 0, 0, ...</td>\n",
       "      <td>[Pushpa: The Rise - Part 1, Alien: Romulus, Ma...</td>\n",
       "    </tr>\n",
       "    <tr>\n",
       "      <th>3</th>\n",
       "      <td>Black Doves</td>\n",
       "      <td>Helen embarks on a passionate affair with a ma...</td>\n",
       "      <td>helen embarks passionate affair man idea secre...</td>\n",
       "      <td>[0, 0, 0, 0, 0, 0, 0, 0, 0, 0, 0, 0, 0, 0, 0, ...</td>\n",
       "      <td>[Ghosts, Moana 2, A Man on the Inside, Spider-...</td>\n",
       "    </tr>\n",
       "    <tr>\n",
       "      <th>4</th>\n",
       "      <td>No Good Deed</td>\n",
       "      <td>It tells the story of three very different fam...</td>\n",
       "      <td>tell story three different family vying buy sp...</td>\n",
       "      <td>[0, 0, 0, 0, 0, 0, 0, 0, 0, 0, 0, 0, 0, 0, 0, ...</td>\n",
       "      <td>[Here, Beetlejuice Beetlejuice, Thukra Ke Mera...</td>\n",
       "    </tr>\n",
       "  </tbody>\n",
       "</table>\n",
       "</div>"
      ],
      "text/plain": [
       "                   MovieName  \\\n",
       "0                   Carry-On   \n",
       "1                    Red One   \n",
       "2  Pushpa: The Rule - Part 2   \n",
       "3                Black Doves   \n",
       "4               No Good Deed   \n",
       "\n",
       "                                           StoryLine  \\\n",
       "0  A mysterious traveler blackmails a young TSA a...   \n",
       "1  After Santa Claus is kidnapped, the North Pole...   \n",
       "2  Pushpa struggles to sustain his sandalwood smu...   \n",
       "3  Helen embarks on a passionate affair with a ma...   \n",
       "4  It tells the story of three very different fam...   \n",
       "\n",
       "                                   cleaned_storyline  \\\n",
       "0  mysterious traveler blackmail young tsa agent ...   \n",
       "1  santa claus kidnapped north pole head security...   \n",
       "2  pushpa struggle sustain sandalwood smuggling b...   \n",
       "3  helen embarks passionate affair man idea secre...   \n",
       "4  tell story three different family vying buy sp...   \n",
       "\n",
       "                                        Count_Vector  \\\n",
       "0  [0, 0, 0, 0, 0, 0, 0, 0, 0, 0, 0, 0, 0, 0, 0, ...   \n",
       "1  [0, 0, 0, 0, 0, 0, 0, 0, 0, 0, 0, 0, 0, 0, 0, ...   \n",
       "2  [0, 0, 0, 0, 0, 0, 0, 0, 0, 0, 0, 0, 0, 0, 0, ...   \n",
       "3  [0, 0, 0, 0, 0, 0, 0, 0, 0, 0, 0, 0, 0, 0, 0, ...   \n",
       "4  [0, 0, 0, 0, 0, 0, 0, 0, 0, 0, 0, 0, 0, 0, 0, ...   \n",
       "\n",
       "                                       Ranked_Movies  \n",
       "0  [Terrifier 3, No Time to Die, Skeleton Crew, D...  \n",
       "1  [Violent Night, The Santa Class, The Santa Cla...  \n",
       "2  [Pushpa: The Rise - Part 1, Alien: Romulus, Ma...  \n",
       "3  [Ghosts, Moana 2, A Man on the Inside, Spider-...  \n",
       "4  [Here, Beetlejuice Beetlejuice, Thukra Ke Mera...  "
      ]
     },
     "execution_count": 83,
     "metadata": {},
     "output_type": "execute_result"
    }
   ],
   "source": [
    "movies_df.head()"
   ]
  },
  {
   "cell_type": "code",
   "execution_count": 85,
   "id": "9f01d88c-5bda-4f68-bb52-04183d8c20de",
   "metadata": {},
   "outputs": [],
   "source": [
    "movies_df.to_csv(\"imdb_movies_data_final_003.csv\")"
   ]
  },
  {
   "cell_type": "code",
   "execution_count": null,
   "id": "f53a8156-6e1b-4757-92ce-39fe59a7b33e",
   "metadata": {},
   "outputs": [],
   "source": []
  }
 ],
 "metadata": {
  "kernelspec": {
   "display_name": "Python 3 (ipykernel)",
   "language": "python",
   "name": "python3"
  },
  "language_info": {
   "codemirror_mode": {
    "name": "ipython",
    "version": 3
   },
   "file_extension": ".py",
   "mimetype": "text/x-python",
   "name": "python",
   "nbconvert_exporter": "python",
   "pygments_lexer": "ipython3",
   "version": "3.12.4"
  }
 },
 "nbformat": 4,
 "nbformat_minor": 5
}
